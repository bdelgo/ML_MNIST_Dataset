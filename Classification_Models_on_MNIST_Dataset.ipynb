{
 "cells": [
  {
   "cell_type": "markdown",
   "metadata": {},
   "source": [
    "# Comparing Different Classification Models on MNIST Dataset\n",
    "## Table of Contents\n",
    "<ul>\n",
    "<li> <a href=\"#intro\"> Introduction </a></li>\n",
    "<li> <a href=\"#Lib\"> Libraries </a></li>\n",
    "<li> <a href=\"#getting\"> Getting Familiarize With Data </a></li>\n",
    "<li> <a href=\"#Spliting\"> Spliting Data to Train and Test </a></li>\n",
    "<li> <a href=\"#Rescaling\"> Rescaling Data </a></li>\n",
    "<li> <a href=\"#Evaluation\"> Evaluation of Different Models Using Cross-Validation </a></li>\n",
    "<li> <a href=\"#Error\"> Error Analysis </a></li>\n",
    "<li> <a href=\"#other\"> Performance Over the Test Data </a></li>\n",
    "<li> <a href=\"#conclu\"> Conclusion </a></li>\n",
    "\n",
    "### Reference:\n",
    "Géron, Aurélien, Hands-On Machine Learning with Scikit-Learn and TensorFlow"
   ]
  },
  {
   "cell_type": "markdown",
   "metadata": {},
   "source": [
    "<a id=\"intro\"></a>\n",
    "## Introduction\n"
   ]
  },
  {
   "cell_type": "markdown",
   "metadata": {
    "collapsed": true
   },
   "source": [
    "In this project, we will compare the performance of the 4 different classification models on  the MNIST dataset.  MNIST is a set of 70,000 small images of digits handwritten by high school students and employees of the US Census Bureau. Each image is labeled with the digit it represents. "
   ]
  },
  {
   "cell_type": "markdown",
   "metadata": {},
   "source": [
    "<a id=\"map\"></a>\n",
    "## Libraries"
   ]
  },
  {
   "cell_type": "code",
   "execution_count": 42,
   "metadata": {
    "collapsed": true
   },
   "outputs": [],
   "source": [
    "from sklearn.datasets import fetch_mldata\n",
    "from sklearn.model_selection import cross_val_score \n",
    "from sklearn.model_selection import cross_val_predict\n",
    "from sklearn.preprocessing import StandardScaler\n",
    "from sklearn.metrics import confusion_matrix\n",
    "from sklearn.metrics import precision_score, recall_score, accuracy_score \n",
    "from sklearn.linear_model import SGDClassifier \n",
    "from sklearn.ensemble import RandomForestClassifier\n",
    "from sklearn.svm import LinearSVC\n",
    "import numpy as np\n",
    "import  matplotlib.pyplot as plt\n",
    "%matplotlib inline"
   ]
  },
  {
   "cell_type": "markdown",
   "metadata": {},
   "source": [
    "<a id=\"getting\"></a>\n",
    "## Getting Familiarize With Data"
   ]
  },
  {
   "cell_type": "markdown",
   "metadata": {},
   "source": [
    "MNIST is a dictionary in which 'data' key contains an numpy array with one row per instance and one column per feature(one of the 784 pixels in a 28*28 image of a number from 0 to 9). A 'target' key containing an array with the labels(numbers from 0 to 9)\n",
    "\n"
   ]
  },
  {
   "cell_type": "code",
   "execution_count": 2,
   "metadata": {
    "collapsed": false
   },
   "outputs": [
    {
     "data": {
      "text/plain": [
       "{'COL_NAMES': ['label', 'data'],\n",
       " 'DESCR': 'mldata.org dataset: mnist-original',\n",
       " 'data': array([[0, 0, 0, ..., 0, 0, 0],\n",
       "        [0, 0, 0, ..., 0, 0, 0],\n",
       "        [0, 0, 0, ..., 0, 0, 0],\n",
       "        ..., \n",
       "        [0, 0, 0, ..., 0, 0, 0],\n",
       "        [0, 0, 0, ..., 0, 0, 0],\n",
       "        [0, 0, 0, ..., 0, 0, 0]], dtype=uint8),\n",
       " 'target': array([ 0.,  0.,  0., ...,  9.,  9.,  9.])}"
      ]
     },
     "execution_count": 2,
     "metadata": {},
     "output_type": "execute_result"
    }
   ],
   "source": [
    "mnist = fetch_mldata('MNIST original')\n",
    "mnist"
   ]
  },
  {
   "cell_type": "code",
   "execution_count": 41,
   "metadata": {
    "collapsed": false
   },
   "outputs": [
    {
     "name": "stdout",
     "output_type": "stream",
     "text": [
      "(70000, 784) (70000,)\n"
     ]
    }
   ],
   "source": [
    "X , y = mnist['data'], mnist['target']\n",
    "print X.shape, y.shape"
   ]
  },
  {
   "cell_type": "markdown",
   "metadata": {},
   "source": [
    "Here we can see graphic representation of some data in the MNIST dataset:"
   ]
  },
  {
   "cell_type": "code",
   "execution_count": 6,
   "metadata": {
    "collapsed": false
   },
   "outputs": [
    {
     "data": {
      "image/png": "[encoded data removed]",
      "text/plain": [
       "<matplotlib.figure.Figure at 0x11bc08f50>"
      ]
     },
     "metadata": {},
     "output_type": "display_data"
    }
   ],
   "source": [
    "plt.subplot(221);\n",
    "plt.imshow(X[0].reshape(28,28))\n",
    "plt.subplot(222);\n",
    "plt.imshow(X[18000].reshape(28,28))\n",
    "plt.subplot(223);\n",
    "plt.imshow(X[36000].reshape(28,28))\n",
    "plt.subplot(224);\n",
    "plt.imshow(X[54000].reshape(28,28))\n",
    "plt.show()"
   ]
  },
  {
   "cell_type": "markdown",
   "metadata": {},
   "source": [
    "For each number there is between 6500 to 8000 samples in the DataSet. So, the frequencies are not skewed and they are evenly distributed"
   ]
  },
  {
   "cell_type": "code",
   "execution_count": 10,
   "metadata": {
    "collapsed": false
   },
   "outputs": [
    {
     "data": {
      "image/png": "[encoded data removed]",
      "text/plain": [
       "<matplotlib.figure.Figure at 0x11ee75790>"
      ]
     },
     "metadata": {},
     "output_type": "display_data"
    }
   ],
   "source": [
    "plt.title(\"Frequency of Labels\")\n",
    "plt.hist(y, bins = range(11), rwidth = 0.8)\n",
    "plt.show()"
   ]
  },
  {
   "cell_type": "markdown",
   "metadata": {},
   "source": [
    "<a id=\"data audit\"></a>\n",
    "## Spliting Data to Train and Test"
   ]
  },
  {
   "cell_type": "markdown",
   "metadata": {},
   "source": [
    "Befor testing any model, we split the dataset to train and test data; with 60000 datapoints for training and 10000 for testing. we also shuffle the training data in oreder to make all cross_validation folds similar"
   ]
  },
  {
   "cell_type": "code",
   "execution_count": 7,
   "metadata": {
    "collapsed": true
   },
   "outputs": [],
   "source": [
    "X_train, X_test, y_train, y_test = X[:60000], X[60000:], y[:60000], y[60000:]\n",
    "index = np.random.permutation(60000)\n",
    "X_train, y_train = X_train[index], y_train[index]"
   ]
  },
  {
   "cell_type": "markdown",
   "metadata": {},
   "source": [
    "<a id=\"clean\"></a>\n",
    "## Rescaling Data"
   ]
  },
  {
   "cell_type": "markdown",
   "metadata": {},
   "source": [
    "Many of the Classification Models have a better performance with scaled data. So here we use Standard Scaler to scale data for future performance tests. "
   ]
  },
  {
   "cell_type": "code",
   "execution_count": 8,
   "metadata": {
    "collapsed": true
   },
   "outputs": [],
   "source": [
    "scaler = StandardScaler() \n",
    "X_train_scaled = scaler.fit_transform( X_train.astype( np.float64))"
   ]
  },
  {
   "cell_type": "markdown",
   "metadata": {},
   "source": [
    "<a id=\"building\"></a>\n",
    "## Evaluation of Different Models Using Cross-Validation"
   ]
  },
  {
   "cell_type": "markdown",
   "metadata": {},
   "source": [
    "In this section we test the performance of three different classifiers: SGD, SVC and Random Forest. First we fit the model with train data and predict the label of some datapoints in the training dataset. Then we check how the model performs on the training data. Finally, in order to prevent overfitting, we use Cross_Validation to evalute each model."
   ]
  },
  {
   "cell_type": "markdown",
   "metadata": {},
   "source": [
    "### SGD Classifier"
   ]
  },
  {
   "cell_type": "code",
   "execution_count": 29,
   "metadata": {
    "collapsed": false
   },
   "outputs": [
    {
     "name": "stdout",
     "output_type": "stream",
     "text": [
      "[ 0.  2.  5.  8.]\n",
      "[ 0.  1.  2.  3.  4.  5.  6.  7.  8.  9.]\n"
     ]
    }
   ],
   "source": [
    "# SGD Classifier\n",
    "sgd_clf = SGDClassifier( random_state = 42) \n",
    "sgd_clf.fit(X_train, y_train)\n",
    "print sgd_clf.predict([X[0],X[18000],X[36000],X[54000]])\n",
    "print sgd_clf.classes_ "
   ]
  },
  {
   "cell_type": "code",
   "execution_count": 21,
   "metadata": {
    "collapsed": false
   },
   "outputs": [
    {
     "name": "stdout",
     "output_type": "stream",
     "text": [
      "0.881783333333\n"
     ]
    }
   ],
   "source": [
    "# Model's Accuracy on Training Data\n",
    "y_train_pred = sgd_clf.predict(X_train)\n",
    "print accuracy_score(y_train.reshape(-1,1), y_train_pred.reshape(-1,1))"
   ]
  },
  {
   "cell_type": "code",
   "execution_count": 16,
   "metadata": {
    "collapsed": false
   },
   "outputs": [
    {
     "name": "stdout",
     "output_type": "stream",
     "text": [
      "accuracy is : [ 0.86357728  0.85464273  0.8540281 ]\n",
      "Mean Accuracy is: 0.86\n"
     ]
    }
   ],
   "source": [
    "#SGDC Cross_Validation & Accuracy_Score\n",
    "accuracy_score = cross_val_score(sgd_clf, X_train, y_train, cv = 3, scoring ='accuracy')\n",
    "print \"accuracy is :\", accuracy_score\n",
    "print \"Mean Accuracy is:\", round(np.mean(accuracy_score),2)"
   ]
  },
  {
   "cell_type": "code",
   "execution_count": 28,
   "metadata": {
    "collapsed": false
   },
   "outputs": [
    {
     "name": "stdout",
     "output_type": "stream",
     "text": [
      "Scaled_Data accuracy is : [ 0.91136773  0.90829541  0.90893634]\n",
      "Mean Scaled_Data Accuracy is: 0.91\n"
     ]
    }
   ],
   "source": [
    "#SGDC Cross_Validation & Accuracy_Score with scaled inputs\n",
    "scaler = StandardScaler() \n",
    "X_train_scaled = scaler.fit_transform( X_train.astype( np.float64))\n",
    "accuracy_score = cross_val_score(sgd_clf, X_train_scaled, y_train, cv = 3, scoring ='accuracy')\n",
    "print \"Scaled_Data accuracy is :\", accuracy_score\n",
    "print \"Mean Scaled_Data Accuracy is:\", round(np.mean(accuracy_score),2)"
   ]
  },
  {
   "cell_type": "markdown",
   "metadata": {},
   "source": [
    "Scaling the inputs increases accuracy of SGD classifier above 90%. "
   ]
  },
  {
   "cell_type": "markdown",
   "metadata": {},
   "source": [
    "### SVM Classifier"
   ]
  },
  {
   "cell_type": "code",
   "execution_count": 17,
   "metadata": {
    "collapsed": false
   },
   "outputs": [
    {
     "name": "stdout",
     "output_type": "stream",
     "text": [
      "[ 0.  2.  5.  8.]\n"
     ]
    }
   ],
   "source": [
    "# SVM Classifier\n",
    "svc_clf = LinearSVC()\n",
    "svc_clf.fit(X_train, y_train)\n",
    "print svc_clf.predict([X[0],X[18000],X[36000],X[54000]])"
   ]
  },
  {
   "cell_type": "code",
   "execution_count": 23,
   "metadata": {
    "collapsed": false
   },
   "outputs": [
    {
     "name": "stdout",
     "output_type": "stream",
     "text": [
      "0.881233333333\n"
     ]
    }
   ],
   "source": [
    "# Model's Accuracy on Training Data\n",
    "y_train_pred = svc_clf.predict(X_train)\n",
    "print accuracy_score(y_train.reshape(-1,1), y_train_pred.reshape(-1,1))"
   ]
  },
  {
   "cell_type": "code",
   "execution_count": 40,
   "metadata": {
    "collapsed": false
   },
   "outputs": [
    {
     "name": "stdout",
     "output_type": "stream",
     "text": [
      "accuracy is : [ 0.86992601  0.85904295  0.87138071]\n",
      "Mean Accuracy is: 0.87\n"
     ]
    }
   ],
   "source": [
    "#SVC Cross_Validation & Accuracy_Score\n",
    "accuracy_score = cross_val_score(svc_clf, X_train, y_train, cv = 3, scoring ='accuracy')\n",
    "print \"accuracy is :\", accuracy_score\n",
    "print \"Mean Accuracy is:\", round(np.mean(accuracy_score),2)"
   ]
  },
  {
   "cell_type": "markdown",
   "metadata": {},
   "source": [
    "### Random Forest Classifier"
   ]
  },
  {
   "cell_type": "code",
   "execution_count": 30,
   "metadata": {
    "collapsed": false
   },
   "outputs": [
    {
     "name": "stdout",
     "output_type": "stream",
     "text": [
      "[ 0.  2.  5.  8.]\n",
      "[ 0.  1.  2.  3.  4.  5.  6.  7.  8.  9.]\n"
     ]
    }
   ],
   "source": [
    "# Random Forest Classifier\n",
    "forest_clf = RandomForestClassifier(random_state = 42)\n",
    "forest_clf.fit(X_train, y_train)\n",
    "print forest_clf.predict([X[0],X[18000],X[36000],X[54000]])\n",
    "print forest_clf.classes_ "
   ]
  },
  {
   "cell_type": "code",
   "execution_count": 26,
   "metadata": {
    "collapsed": false
   },
   "outputs": [
    {
     "name": "stdout",
     "output_type": "stream",
     "text": [
      "0.9992\n"
     ]
    }
   ],
   "source": [
    "# Model's Accuracy on Training Data\n",
    "y_train_pred = forest_clf.predict(X_train)\n",
    "print accuracy_score(y_train.reshape(-1,1), y_train_pred.reshape(-1,1))"
   ]
  },
  {
   "cell_type": "code",
   "execution_count": 27,
   "metadata": {
    "collapsed": false
   },
   "outputs": [
    {
     "name": "stdout",
     "output_type": "stream",
     "text": [
      "accuracy is : [ 0.94136173  0.94309715  0.93834075]\n",
      "Mean Accuracy is: 0.94\n"
     ]
    }
   ],
   "source": [
    "#Random Forest Cross_Validation & Accuracy_Score\n",
    "accuracy_score = cross_val_score(forest_clf, X_train, y_train, cv = 3, scoring ='accuracy')\n",
    "print \"accuracy is :\", accuracy_score\n",
    "print \"Mean Accuracy is:\", round(np.mean(accuracy_score),2)"
   ]
  },
  {
   "cell_type": "markdown",
   "metadata": {},
   "source": [
    "SVC is much slower and has worse performance than both SGD and Random Forest;"
   ]
  },
  {
   "cell_type": "markdown",
   "metadata": {},
   "source": [
    "## Error Analysis"
   ]
  },
  {
   "cell_type": "markdown",
   "metadata": {},
   "source": [
    "We chose SGD and Random Forest over SVM based on thier higher accuracy score. Now, lets see how is their performance regarding Precision and Recall Scores. "
   ]
  },
  {
   "cell_type": "markdown",
   "metadata": {},
   "source": [
    "### SGD Classifier"
   ]
  },
  {
   "cell_type": "code",
   "execution_count": 33,
   "metadata": {
    "collapsed": false
   },
   "outputs": [
    {
     "name": "stdout",
     "output_type": "stream",
     "text": [
      "[[5715    0   31   30    4   35   45    5   37   21]\n",
      " [   2 6442   35  104    7   20   13    7   90   22]\n",
      " [ 115  144 5051  205   37   32  109   41  175   49]\n",
      " [  80   59  144 5254    8  233   29   39  192   93]\n",
      " [  39   33   92  112 4844   12   84   19   86  521]\n",
      " [ 100   26   91  359   80 4063   99   23  462  118]\n",
      " [  69   21  124   12   27   86 5519    3   51    6]\n",
      " [  62   29  119  184   50   10    7 5314   52  438]\n",
      " [  77  243  213  373   41  229   53   27 4259  336]\n",
      " [  83   28   59  219  250   36    1  192   97 4984]]\n"
     ]
    }
   ],
   "source": [
    "#SGDC Error Analysis\n",
    "y_train_pred = cross_val_predict(sgd_clf, X_train, y_train, cv = 3)\n",
    "\n",
    "#Confusion Matrix\n",
    "print confusion_matrix( y_train, y_train_pred)"
   ]
  },
  {
   "cell_type": "code",
   "execution_count": 35,
   "metadata": {
    "collapsed": false
   },
   "outputs": [
    {
     "name": "stdout",
     "output_type": "stream",
     "text": [
      "precision is: 0.86\n",
      "recall is: 0.86\n"
     ]
    }
   ],
   "source": [
    "#Precision and Recall Scores\n",
    "print \"precision is:\", round(precision_score( y_train, y_train_pred, average='micro'),2)\n",
    "print \"recall is:\", round(recall_score(y_train, y_train_pred, average='micro'),2)"
   ]
  },
  {
   "cell_type": "markdown",
   "metadata": {},
   "source": [
    "### Random Forest Classifier"
   ]
  },
  {
   "cell_type": "code",
   "execution_count": 36,
   "metadata": {
    "collapsed": false
   },
   "outputs": [
    {
     "name": "stdout",
     "output_type": "stream",
     "text": [
      "[[5820    3   13   12    5   11   29    1   24    5]\n",
      " [   3 6617   38   25   11   10    3   11   14   10]\n",
      " [  54   26 5636   61   31   12   28   52   49    9]\n",
      " [  26   19  148 5625   15  121    8   59   79   31]\n",
      " [  14   15   32    6 5559    8   39   20   29  120]\n",
      " [  51   15   27  194   35 4941   57    6   68   27]\n",
      " [  61   21   28    8   35   57 5669    2   35    2]\n",
      " [  14   29   88   31   67    4    0 5931   20   81]\n",
      " [  30   60   96  123   64   96   47   16 5254   65]\n",
      " [  29   18   37   80  175   43    7   93   63 5404]]\n"
     ]
    }
   ],
   "source": [
    "#Random Foresrt Error Analysis\n",
    "y_train_pred = cross_val_predict(forest_clf, X_train, y_train, cv = 3)\n",
    "\n",
    "#Confusion Matrix\n",
    "print confusion_matrix( y_train, y_train_pred)"
   ]
  },
  {
   "cell_type": "code",
   "execution_count": 37,
   "metadata": {
    "collapsed": false
   },
   "outputs": [
    {
     "name": "stdout",
     "output_type": "stream",
     "text": [
      "precision is: 0.94\n",
      "recall is: 0.94\n"
     ]
    }
   ],
   "source": [
    "#Precision and Recall Scores\n",
    "print \"precision is:\", round(precision_score( y_train, y_train_pred, average='micro'),2)\n",
    "print \"recall is:\", round(recall_score(y_train, y_train_pred, average='micro'),2)"
   ]
  },
  {
   "cell_type": "markdown",
   "metadata": {},
   "source": [
    "<a id=\"overview\"></a>\n",
    "## Performance Over the Test Data"
   ]
  },
  {
   "cell_type": "code",
   "execution_count": 38,
   "metadata": {
    "collapsed": false
   },
   "outputs": [
    {
     "name": "stdout",
     "output_type": "stream",
     "text": [
      "0.8771\n"
     ]
    }
   ],
   "source": [
    "y_test_pred = sgd_clf.predict(X_test)\n",
    "print accuracy_score(y_test.reshape(-1,1), y_test_pred.reshape(-1,1))"
   ]
  },
  {
   "cell_type": "code",
   "execution_count": 39,
   "metadata": {
    "collapsed": false
   },
   "outputs": [
    {
     "name": "stdout",
     "output_type": "stream",
     "text": [
      "0.9448\n"
     ]
    }
   ],
   "source": [
    "y_test_pred = forest_clf.predict(X_test)\n",
    "print accuracy_score(y_test.reshape(-1,1), y_test_pred.reshape(-1,1))"
   ]
  },
  {
   "cell_type": "markdown",
   "metadata": {},
   "source": [
    "These results are completely consistent with the Cross_Validation results."
   ]
  },
  {
   "cell_type": "markdown",
   "metadata": {},
   "source": [
    "<a id=\"conclu\"></a>\n",
    "## Conclusion"
   ]
  },
  {
   "cell_type": "markdown",
   "metadata": {},
   "source": [
    "According to our evaluation, Random Forest Classifier has the best results on MNIST dataset "
   ]
  }
 ],
 "metadata": {
  "kernelspec": {
   "display_name": "Python 2",
   "language": "python",
   "name": "python2"
  },
  "language_info": {
   "codemirror_mode": {
    "name": "ipython",
    "version": 2
   },
   "file_extension": ".py",
   "mimetype": "text/x-python",
   "name": "python",
   "nbconvert_exporter": "python",
   "pygments_lexer": "ipython2",
   "version": "2.7.13"
  }
 },
 "nbformat": 4,
 "nbformat_minor": 2
}
